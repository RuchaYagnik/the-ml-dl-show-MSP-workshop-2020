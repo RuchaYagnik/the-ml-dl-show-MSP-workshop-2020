{
  "cells": [
    {
      "metadata": {
        "trusted": true
      },
      "cell_type": "code",
      "source": "#importing all te req lib\nimport tensorflow as tf\nfrom keras.preprocessing.image import ImageDataGenerator\nfrom keras.models import Sequential\nfrom keras.layers import Conv2D, MaxPooling2D\nfrom keras.layers import Activation, Dropout, Flatten, Dense\nfrom keras import backend as K\nfrom keras.preprocessing import image\nimport numpy as np",
      "execution_count": null,
      "outputs": []
    },
    {
      "metadata": {
        "trusted": true
      },
      "cell_type": "code",
      "source": "# dimensions of our images.\nimg_width, img_height = 224, 224\n\n#defining the data directories\ntrain_data_dir= 'data/train'\nvalidation_data_dir= 'data/validation'\nn_training_sample= 580\nn_validation_sample= 100\nepochs=10\nbatch_size=29",
      "execution_count": null,
      "outputs": []
    },
    {
      "metadata": {
        "trusted": true
      },
      "cell_type": "code",
      "source": "if K.image_data_format() == 'channels_first':\n    input_shape = (3, img_width, img_height)\nelse:\n    input_shape = (img_width, img_height, 3)",
      "execution_count": null,
      "outputs": []
    },
    {
      "metadata": {
        "trusted": true
      },
      "cell_type": "code",
      "source": "#defining the model\nmodel = tf.keras.models.Sequential([tf.keras.layers.Flatten(), \n                                    tf.keras.layers.Dense(512, activation=tf.nn.relu),\n                                    tf.keras.layers.Dense(128, activation=tf.nn.relu), \n                                    tf.keras.layers.Dense(64, activation=tf.nn.relu),\n                                    tf.keras.layers.Dense(32, activation=tf.nn.relu),\n                                    tf.keras.layers.Dense(2, activation=tf.nn.softmax)])",
      "execution_count": null,
      "outputs": []
    },
    {
      "metadata": {
        "trusted": true
      },
      "cell_type": "code",
      "source": "#defining the optimizer and metrics\nmodel.compile(optimizer = tf.optimizers.Adam(),\n              loss = 'sparse_categorical_crossentropy',\n              metrics=['accuracy'])",
      "execution_count": null,
      "outputs": []
    },
    {
      "metadata": {
        "trusted": true
      },
      "cell_type": "code",
      "source": "# this is the augmentation configuration we will use for training\ntrain_datagen = ImageDataGenerator(\n    rescale=1. / 255,\n    shear_range=0.2,\n    zoom_range=0.2,\n    horizontal_flip=True)\n\n# this is the augmentation configuration we will use for testing:\n# only rescaling\ntest_datagen = ImageDataGenerator(rescale=1. / 255)\n\ntrain_generator = train_datagen.flow_from_directory(\n    train_data_dir,\n    target_size=(img_width, img_height),\n    batch_size=batch_size,\n    class_mode='binary')\n\nvalidation_generator = test_datagen.flow_from_directory(\n    validation_data_dir,\n    target_size=(img_width, img_height),\n    batch_size=batch_size,\n    class_mode='binary')\n\nhistory = model.fit_generator(\n    train_generator,\n    steps_per_epoch=n_training_sample // batch_size,\n    epochs=epochs,\n    validation_data=validation_generator,\n    validation_steps=n_validation_sample // batch_size)",
      "execution_count": null,
      "outputs": []
    },
    {
      "metadata": {
        "trusted": true
      },
      "cell_type": "code",
      "source": "#testing the model\npred= image.load_img('data/test/00000339.jpg', target_size=(224,224))\npred=image.img_to_array(pred)\npred= np.expand_dims(pred, axis=0)\nresult= model.predict(pred)\nprint(result)\n\nprint(result[0][0])\nprint(result[0][1])",
      "execution_count": null,
      "outputs": []
    },
    {
      "metadata": {
        "trusted": true
      },
      "cell_type": "code",
      "source": "if result[0][0]==1:\n    answer='waffle'\nelse:\n    answer='ice-cream'\nprint(\"The delicacy in the image is\",answer)",
      "execution_count": null,
      "outputs": []
    },
    {
      "metadata": {
        "trusted": true
      },
      "cell_type": "code",
      "source": " import matplotlib. pyplot as plt \n    \n# Loss Curves\n\nplt.figure(figsize=[8,6])\nplt.plot(history.history['loss'],'r',linewidth=2.0)\nplt.plot(history.history['val_loss'],'b',linewidth=2.0)\nplt.legend(['Training loss', 'Validation Loss'],fontsize=14)\nplt.xlabel('Epochs ',fontsize=12)\nplt.ylabel('Loss',fontsize=12)\nplt.title('Loss Curves',fontsize=12) \n\n# Accuracy Curves\nplt.figure(figsize=[8,6])\nplt.plot(history.history['accuracy'],'r',linewidth=3.0)\nplt.plot(history.history['val_accuracy'],'b',linewidth=3.0)\nplt.legend(['Training Accuracy', 'Validation Accuracy'],fontsize=14)\nplt.xlabel('Epochs ',fontsize=12)\nplt.ylabel('Accuracy',fontsize=12)\nplt.title('Accuracy Curves',fontsize=12)\n",
      "execution_count": null,
      "outputs": []
    }
  ],
  "metadata": {
    "kernelspec": {
      "name": "python36",
      "display_name": "Python 3.6",
      "language": "python"
    },
    "language_info": {
      "mimetype": "text/x-python",
      "nbconvert_exporter": "python",
      "name": "python",
      "pygments_lexer": "ipython3",
      "version": "3.6.6",
      "file_extension": ".py",
      "codemirror_mode": {
        "version": 3,
        "name": "ipython"
      }
    }
  },
  "nbformat": 4,
  "nbformat_minor": 2
}