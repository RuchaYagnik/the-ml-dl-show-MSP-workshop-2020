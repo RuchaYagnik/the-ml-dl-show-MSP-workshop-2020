{
  "cells": [
    {
      "metadata": {
        "trusted": true
      },
      "cell_type": "code",
      "source": "#importing lib\nimport numpy as np\nimport pandas as pd",
      "execution_count": 2,
      "outputs": []
    },
    {
      "metadata": {
        "trusted": true
      },
      "cell_type": "code",
      "source": "#importing data\ndataset= pd.read_csv(\"predict_heart_diseases.csv\")",
      "execution_count": 3,
      "outputs": []
    },
    {
      "metadata": {
        "trusted": true
      },
      "cell_type": "code",
      "source": "print(dataset.head(len(dataset)))",
      "execution_count": 4,
      "outputs": [
        {
          "output_type": "stream",
          "text": "      age  sex  chest pain type  resting bp s  cholesterol  \\\n0      40    1                2           140          289   \n1      49    0                3           160          180   \n2      37    1                2           130          283   \n3      48    0                4           138          214   \n4      54    1                3           150          195   \n5      39    1                3           120          339   \n6      45    0                2           130          237   \n7      54    1                2           110          208   \n8      37    1                4           140          207   \n9      48    0                2           120          284   \n10     37    0                3           130          211   \n11     58    1                2           136          164   \n12     39    1                2           120          204   \n13     49    1                4           140          234   \n14     42    0                3           115          211   \n15     54    0                2           120          273   \n16     38    1                4           110          196   \n17     43    0                2           120          201   \n18     60    1                4           100          248   \n19     36    1                2           120          267   \n20     43    0                1           100          223   \n21     44    1                2           120          184   \n22     49    0                2           124          201   \n23     44    1                2           150          288   \n24     40    1                3           130          215   \n25     36    1                3           130          209   \n26     53    1                4           124          260   \n27     52    1                2           120          284   \n28     53    0                2           113          468   \n29     51    1                2           125          188   \n...   ...  ...              ...           ...          ...   \n1160   71    0                4           112          149   \n1161   59    1                1           134          204   \n1162   64    1                1           170          227   \n1163   66    0                3           146          278   \n1164   39    0                3           138          220   \n1165   57    1                2           154          232   \n1166   58    0                4           130          197   \n1167   57    1                4           110          335   \n1168   47    1                3           130          253   \n1169   55    0                4           128          205   \n1170   35    1                2           122          192   \n1171   61    1                4           148          203   \n1172   58    1                4           114          318   \n1173   58    0                4           170          225   \n1174   58    1                2           125          220   \n1175   56    1                2           130          221   \n1176   56    1                2           120          240   \n1177   67    1                3           152          212   \n1178   55    0                2           132          342   \n1179   44    1                4           120          169   \n1180   63    1                4           140          187   \n1181   63    0                4           124          197   \n1182   41    1                2           120          157   \n1183   59    1                4           164          176   \n1184   57    0                4           140          241   \n1185   45    1                1           110          264   \n1186   68    1                4           144          193   \n1187   57    1                4           130          131   \n1188   57    0                2           130          236   \n1189   38    1                3           138          175   \n\n      fasting blood sugar  resting ecg  max heart rate  exercise angina  \\\n0                       0            0             172                0   \n1                       0            0             156                0   \n2                       0            1              98                0   \n3                       0            0             108                1   \n4                       0            0             122                0   \n5                       0            0             170                0   \n6                       0            0             170                0   \n7                       0            0             142                0   \n8                       0            0             130                1   \n9                       0            0             120                0   \n10                      0            0             142                0   \n11                      0            1              99                1   \n12                      0            0             145                0   \n13                      0            0             140                1   \n14                      0            1             137                0   \n15                      0            0             150                0   \n16                      0            0             166                0   \n17                      0            0             165                0   \n18                      0            0             125                0   \n19                      0            0             160                0   \n20                      0            0             142                0   \n21                      0            0             142                0   \n22                      0            0             164                0   \n23                      0            0             150                1   \n24                      0            0             138                0   \n25                      0            0             178                0   \n26                      0            1             112                1   \n27                      0            0             118                0   \n28                      0            0             127                0   \n29                      0            0             145                0   \n...                   ...          ...             ...              ...   \n1160                    0            0             125                0   \n1161                    0            0             162                0   \n1162                    0            2             155                0   \n1163                    0            2             152                0   \n1164                    0            0             152                0   \n1165                    0            2             164                0   \n1166                    0            0             131                0   \n1167                    0            0             143                1   \n1168                    0            0             179                0   \n1169                    0            1             130                1   \n1170                    0            0             174                0   \n1171                    0            0             161                0   \n1172                    0            1             140                0   \n1173                    1            2             146                1   \n1174                    0            0             144                0   \n1175                    0            2             163                0   \n1176                    0            0             169                0   \n1177                    0            2             150                0   \n1178                    0            0             166                0   \n1179                    0            0             144                1   \n1180                    0            2             144                1   \n1181                    0            0             136                1   \n1182                    0            0             182                0   \n1183                    1            2              90                0   \n1184                    0            0             123                1   \n1185                    0            0             132                0   \n1186                    1            0             141                0   \n1187                    0            0             115                1   \n1188                    0            2             174                0   \n1189                    0            0             173                0   \n\n      oldpeak  ST slope  target  \n0         0.0         1       0  \n1         1.0         2       1  \n2         0.0         1       0  \n3         1.5         2       1  \n4         0.0         1       0  \n5         0.0         1       0  \n6         0.0         1       0  \n7         0.0         1       0  \n8         1.5         2       1  \n9         0.0         1       0  \n10        0.0         1       0  \n11        2.0         2       1  \n12        0.0         1       0  \n13        1.0         2       1  \n14        0.0         1       0  \n15        1.5         2       0  \n16        0.0         2       1  \n17        0.0         1       0  \n18        1.0         2       1  \n19        3.0         2       1  \n20        0.0         1       0  \n21        1.0         2       0  \n22        0.0         1       0  \n23        3.0         2       1  \n24        0.0         1       0  \n25        0.0         1       0  \n26        3.0         2       0  \n27        0.0         1       0  \n28        0.0         1       0  \n29        0.0         1       0  \n...       ...       ...     ...  \n1160      1.6         2       0  \n1161      0.8         1       1  \n1162      0.6         2       0  \n1163      0.0         2       0  \n1164      0.0         2       0  \n1165      0.0         1       1  \n1166      0.6         2       0  \n1167      3.0         2       1  \n1168      0.0         1       0  \n1169      2.0         2       1  \n1170      0.0         1       0  \n1171      0.0         1       1  \n1172      4.4         3       1  \n1173      2.8         2       1  \n1174      0.4         2       0  \n1175      0.0         1       0  \n1176      0.0         3       0  \n1177      0.8         2       1  \n1178      1.2         1       0  \n1179      2.8         3       1  \n1180      4.0         1       1  \n1181      0.0         2       1  \n1182      0.0         1       0  \n1183      1.0         2       1  \n1184      0.2         2       1  \n1185      1.2         2       1  \n1186      3.4         2       1  \n1187      1.2         2       1  \n1188      0.0         2       1  \n1189      0.0         1       0  \n\n[1190 rows x 12 columns]\n",
          "name": "stdout"
        }
      ]
    },
    {
      "metadata": {
        "trusted": true
      },
      "cell_type": "code",
      "source": "#define X & Y\nX= dataset.iloc[:,0:-1].values\nY= dataset.iloc[:,-1].values",
      "execution_count": 5,
      "outputs": []
    },
    {
      "metadata": {
        "trusted": true
      },
      "cell_type": "code",
      "source": "#split \nfrom sklearn.model_selection import train_test_split\nX_train, X_test,Y_train, Y_test= train_test_split(X,Y, test_size=0.4)\n\naccuracy_results = {}\n\ndef cal_result(Y_test, Y_pred):\n    from sklearn.metrics import accuracy_score\n    accuracy = accuracy_score(Y_test, Y_pred)\n    return {'accuracy': accuracy} ",
      "execution_count": 6,
      "outputs": []
    },
    {
      "metadata": {
        "trusted": true
      },
      "cell_type": "code",
      "source": "#Logistic Regression\n\nfrom sklearn.linear_model import LogisticRegression\nlogclass= LogisticRegression()\nlogclass.fit(X_train, Y_train)",
      "execution_count": 7,
      "outputs": [
        {
          "output_type": "stream",
          "text": "/home/nbuser/anaconda3_501/lib/python3.6/site-packages/sklearn/linear_model/logistic.py:433: FutureWarning: Default solver will be changed to 'lbfgs' in 0.22. Specify a solver to silence this warning.\n  FutureWarning)\n",
          "name": "stderr"
        },
        {
          "output_type": "execute_result",
          "execution_count": 7,
          "data": {
            "text/plain": "LogisticRegression(C=1.0, class_weight=None, dual=False, fit_intercept=True,\n          intercept_scaling=1, max_iter=100, multi_class='warn',\n          n_jobs=None, penalty='l2', random_state=None, solver='warn',\n          tol=0.0001, verbose=0, warm_start=False)"
          },
          "metadata": {}
        }
      ]
    },
    {
      "metadata": {
        "trusted": true
      },
      "cell_type": "code",
      "source": "Y_pred_log = logclass.predict(X_test)",
      "execution_count": 8,
      "outputs": []
    },
    {
      "metadata": {
        "trusted": true
      },
      "cell_type": "code",
      "source": "from sklearn.metrics import classification_report, confusion_matrix, accuracy_score\n\naccuracy_results['Logistic Regression'] = cal_result(Y_test, Y_pred_log)\n\nprint(confusion_matrix(Y_test, Y_pred_log))\nprint(classification_report(Y_test, Y_pred_log))\nprint(accuracy_score(Y_test, Y_pred_log))",
      "execution_count": 9,
      "outputs": [
        {
          "output_type": "stream",
          "text": "[[178  40]\n [ 38 220]]\n              precision    recall  f1-score   support\n\n           0       0.82      0.82      0.82       218\n           1       0.85      0.85      0.85       258\n\n   micro avg       0.84      0.84      0.84       476\n   macro avg       0.84      0.83      0.83       476\nweighted avg       0.84      0.84      0.84       476\n\n0.8361344537815126\n",
          "name": "stdout"
        }
      ]
    },
    {
      "metadata": {
        "trusted": true
      },
      "cell_type": "code",
      "source": "#KNN Classifier\n\nfrom sklearn.neighbors import KNeighborsClassifier\nknn= KNeighborsClassifier()\nknn.fit(X_train, Y_train)\nY_pred_knn = knn.predict(X_test)",
      "execution_count": 10,
      "outputs": []
    },
    {
      "metadata": {
        "trusted": true
      },
      "cell_type": "code",
      "source": "from sklearn.metrics import classification_report, confusion_matrix, accuracy_score\n\naccuracy_results['KNN Classifier'] = cal_result(Y_test, Y_pred_knn)\n\n\nprint(confusion_matrix(Y_test, Y_pred_knn))\nprint(classification_report(Y_test, Y_pred_knn))\nprint(accuracy_score(Y_test, Y_pred_knn))",
      "execution_count": 11,
      "outputs": [
        {
          "output_type": "stream",
          "text": "[[152  66]\n [ 75 183]]\n              precision    recall  f1-score   support\n\n           0       0.67      0.70      0.68       218\n           1       0.73      0.71      0.72       258\n\n   micro avg       0.70      0.70      0.70       476\n   macro avg       0.70      0.70      0.70       476\nweighted avg       0.71      0.70      0.70       476\n\n0.7037815126050421\n",
          "name": "stdout"
        }
      ]
    },
    {
      "metadata": {
        "trusted": true
      },
      "cell_type": "code",
      "source": "#Descision Tree\n\nfrom sklearn.tree import DecisionTreeClassifier\n\n## Complete the code\nfrom sklearn.metrics import classification_report, confusion_matrix, accuracy_score\n\nclassifier = DecisionTreeClassifier()\nclassifier.fit(X_train, Y_train)\n\nY_pred_decision= classifier.predict(X_test)\n\naccuracy_results['Decision Tree'] = cal_result(Y_test, Y_pred_decision)\n\n\nprint(confusion_matrix(Y_test, Y_pred_decision))\nprint(classification_report(Y_test, Y_pred_decision))\nprint(accuracy_score(Y_test, Y_pred_decision))",
      "execution_count": 12,
      "outputs": [
        {
          "output_type": "stream",
          "text": "[[187  31]\n [ 46 212]]\n              precision    recall  f1-score   support\n\n           0       0.80      0.86      0.83       218\n           1       0.87      0.82      0.85       258\n\n   micro avg       0.84      0.84      0.84       476\n   macro avg       0.84      0.84      0.84       476\nweighted avg       0.84      0.84      0.84       476\n\n0.8382352941176471\n",
          "name": "stdout"
        }
      ]
    },
    {
      "metadata": {
        "trusted": true
      },
      "cell_type": "code",
      "source": "#Random Forest\n\nfrom sklearn.ensemble import RandomForestClassifier\n\n## Complete the code\nfrom sklearn.preprocessing import StandardScaler\nfrom sklearn.metrics import classification_report, confusion_matrix, accuracy_score\n\nsc = StandardScaler()\nX_train = sc.fit_transform(X_train)\nX_test = sc.transform(X_test)\n\nregressor = RandomForestClassifier(n_estimators=10, random_state=0)\nregressor.fit(X_train, Y_train)\nY_pred_random = regressor.predict(X_test)\n\naccuracy_results['Random Forest'] = cal_result(Y_test, Y_pred_random)\n\n\nprint(confusion_matrix(Y_test,Y_pred_random))\nprint(classification_report(Y_test,Y_pred_random))\nprint(accuracy_score(Y_test, Y_pred_random))",
      "execution_count": 13,
      "outputs": [
        {
          "output_type": "stream",
          "text": "[[196  22]\n [ 36 222]]\n              precision    recall  f1-score   support\n\n           0       0.84      0.90      0.87       218\n           1       0.91      0.86      0.88       258\n\n   micro avg       0.88      0.88      0.88       476\n   macro avg       0.88      0.88      0.88       476\nweighted avg       0.88      0.88      0.88       476\n\n0.8781512605042017\n",
          "name": "stdout"
        }
      ]
    },
    {
      "metadata": {
        "trusted": true
      },
      "cell_type": "code",
      "source": "result = accuracy_results.values()\ndef get_accuracy(res):\n    return res['accuracy']\nmax_accuracy = (max(result, key=get_accuracy))['accuracy']\nprint('Max Accuracy: ' + str(max_accuracy))\n\nprint('\\nBest Models:')\nfor (method, res) in accuracy_results.items():\n    if(res['accuracy'] == max_accuracy):\n        print(method)",
      "execution_count": 14,
      "outputs": [
        {
          "output_type": "stream",
          "text": "Max Accuracy: 0.8781512605042017\n\nBest Models:\nRandom Forest\n",
          "name": "stdout"
        }
      ]
    },
    {
      "metadata": {
        "trusted": true
      },
      "cell_type": "code",
      "source": "",
      "execution_count": null,
      "outputs": []
    },
    {
      "metadata": {
        "trusted": true
      },
      "cell_type": "code",
      "source": "",
      "execution_count": null,
      "outputs": []
    }
  ],
  "metadata": {
    "kernelspec": {
      "name": "python36",
      "display_name": "Python 3.6",
      "language": "python"
    },
    "language_info": {
      "mimetype": "text/x-python",
      "nbconvert_exporter": "python",
      "name": "python",
      "pygments_lexer": "ipython3",
      "version": "3.6.6",
      "file_extension": ".py",
      "codemirror_mode": {
        "version": 3,
        "name": "ipython"
      }
    }
  },
  "nbformat": 4,
  "nbformat_minor": 2
}