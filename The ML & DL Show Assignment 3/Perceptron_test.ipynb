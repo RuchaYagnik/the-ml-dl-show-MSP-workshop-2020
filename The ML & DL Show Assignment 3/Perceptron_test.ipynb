{
  "cells": [
    {
      "metadata": {
        "trusted": true
      },
      "cell_type": "code",
      "source": "import tensorflow as tf\nfrom tensorflow import keras\nimport numpy as np\nimport pandas as pd",
      "execution_count": null,
      "outputs": []
    },
    {
      "metadata": {
        "trusted": true
      },
      "cell_type": "code",
      "source": "observations= {}",
      "execution_count": null,
      "outputs": []
    },
    {
      "metadata": {
        "trusted": true
      },
      "cell_type": "code",
      "source": "#creating array X and Y such that Y = (3*X) + 4\nX = np.array([])\nY = np.array([])\nfor i in range (0, 11, 2):\n    X = np.append(X,i)\n    y = (i / 2) - 4\n    Y = np.append(Y,y)\n    \nprint(X)\nprint(Y)",
      "execution_count": null,
      "outputs": []
    },
    {
      "metadata": {
        "trusted": true
      },
      "cell_type": "code",
      "source": "#defining a single layer; single neuron model\nmodel = tf.keras.Sequential([keras.layers.Dense(units=1, input_shape=[1]) ])\n\n#defining the model evaluation for backpropogation\nmodel.compile(optimizer='sgd', loss='mean_squared_error')\n\nmodel.fit(X, Y, epochs=500)",
      "execution_count": null,
      "outputs": []
    },
    {
      "metadata": {
        "trusted": true
      },
      "cell_type": "code",
      "source": "observations[\"PERCEPTRON: [1] OPTIMIZER: 'sgd' LOSS: 'mean_squared_error' EPOCH: 500\"]=(model.predict([40.]))",
      "execution_count": null,
      "outputs": []
    },
    {
      "metadata": {
        "trusted": true
      },
      "cell_type": "code",
      "source": "#defining a single layer; single neuron model\nmodel = tf.keras.Sequential([keras.layers.Dense(units=1, input_shape=[1]) ])\n\n#defining the model evaluation for backpropogation\nmodel.compile(optimizer='sgd', loss='mean_squared_error')\n\nmodel.fit(X, Y, epochs=700)",
      "execution_count": null,
      "outputs": []
    },
    {
      "metadata": {
        "trusted": true
      },
      "cell_type": "code",
      "source": "observations[\"PERCEPTRON: [1] OPTIMIZER: 'sgd' LOSS: 'mean_squared_error' EPOCH: 700\"]=(model.predict([40.]))",
      "execution_count": null,
      "outputs": []
    },
    {
      "metadata": {
        "trusted": true
      },
      "cell_type": "code",
      "source": "model = tf.keras.Sequential([keras.layers.Dense(units=2, input_shape=[1]), keras.layers.Dense(units=1, input_shape=[1]) ])\n\n#defining the model evaluation for backpropogation\nmodel.compile(optimizer='sgd', loss='mean_squared_error')\n\nmodel.fit(X, Y, epochs=200)",
      "execution_count": null,
      "outputs": []
    },
    {
      "metadata": {
        "trusted": true
      },
      "cell_type": "code",
      "source": "observations[\"PERCEPTRON: [2,1] OPTIMIZER: 'sgd' LOSS: 'mean_squared_error' EPOCH: 200\"]=(model.predict([40.]))",
      "execution_count": null,
      "outputs": []
    },
    {
      "metadata": {
        "trusted": true
      },
      "cell_type": "code",
      "source": "model = tf.keras.Sequential([keras.layers.Dense(units=2, input_shape=[1]), keras.layers.Dense(units=1, input_shape=[1]) ])\n\n#defining the model evaluation for backpropogation\nmodel.compile(optimizer='sgd', loss='mean_squared_error')\n\nmodel.fit(X, Y, epochs=200)",
      "execution_count": null,
      "outputs": []
    },
    {
      "metadata": {
        "trusted": true
      },
      "cell_type": "code",
      "source": "observations[\"PERCEPTRON: [2,1] OPTIMIZER: 'sgd' LOSS: 'mean_squared_error' EPOCH: 500\"]=(model.predict([40.]))",
      "execution_count": null,
      "outputs": []
    },
    {
      "metadata": {
        "trusted": true
      },
      "cell_type": "code",
      "source": "model = tf.keras.Sequential([keras.layers.Dense(units=3, input_shape=[1]), keras.layers.Dense(units=1, input_shape=[1]) ])\n\n#defining the model evaluation for backpropogation\nmodel.compile(optimizer='sgd', loss='mean_squared_error')\n\nmodel.fit(X, Y, epochs=200)",
      "execution_count": null,
      "outputs": []
    },
    {
      "metadata": {
        "trusted": true
      },
      "cell_type": "code",
      "source": "observations[\"PERCEPTRON: [3,1] OPTIMIZER: 'sgd' LOSS: 'mean_squared_error' EPOCH: 200\"]=(model.predict([40.]))",
      "execution_count": null,
      "outputs": []
    },
    {
      "metadata": {
        "trusted": true
      },
      "cell_type": "code",
      "source": "",
      "execution_count": null,
      "outputs": []
    },
    {
      "metadata": {
        "trusted": true
      },
      "cell_type": "code",
      "source": "",
      "execution_count": null,
      "outputs": []
    },
    {
      "metadata": {
        "trusted": true
      },
      "cell_type": "code",
      "source": "",
      "execution_count": null,
      "outputs": []
    },
    {
      "metadata": {
        "trusted": true
      },
      "cell_type": "code",
      "source": "",
      "execution_count": null,
      "outputs": []
    },
    {
      "metadata": {
        "trusted": true
      },
      "cell_type": "code",
      "source": "",
      "execution_count": null,
      "outputs": []
    },
    {
      "metadata": {
        "trusted": true
      },
      "cell_type": "code",
      "source": "",
      "execution_count": null,
      "outputs": []
    },
    {
      "metadata": {
        "trusted": true
      },
      "cell_type": "code",
      "source": "",
      "execution_count": null,
      "outputs": []
    },
    {
      "metadata": {
        "trusted": true
      },
      "cell_type": "code",
      "source": "for key, value in observations.items():\n    print(key, \" ===> \", value)",
      "execution_count": null,
      "outputs": []
    },
    {
      "metadata": {
        "trusted": true
      },
      "cell_type": "code",
      "source": "",
      "execution_count": null,
      "outputs": []
    }
  ],
  "metadata": {
    "kernelspec": {
      "name": "python36",
      "display_name": "Python 3.6",
      "language": "python"
    },
    "language_info": {
      "mimetype": "text/x-python",
      "nbconvert_exporter": "python",
      "name": "python",
      "pygments_lexer": "ipython3",
      "version": "3.6.6",
      "file_extension": ".py",
      "codemirror_mode": {
        "version": 3,
        "name": "ipython"
      }
    }
  },
  "nbformat": 4,
  "nbformat_minor": 2
}